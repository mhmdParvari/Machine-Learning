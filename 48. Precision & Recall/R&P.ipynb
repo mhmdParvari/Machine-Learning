{
 "cells": [
  {
   "cell_type": "code",
   "execution_count": 51,
   "id": "0c1517e8-f17b-4769-aaf7-a26adfbbd024",
   "metadata": {
    "tags": []
   },
   "outputs": [],
   "source": [
    "import numpy as np\n",
    "import pandas as pd\n",
    "from sklearn.utils import shuffle\n",
    "from sklearn import datasets, model_selection, metrics\n",
    "from sklearn.metrics import precision_score\n",
    "from sklearn.metrics import recall_score"
   ]
  },
  {
   "cell_type": "code",
   "execution_count": 3,
   "id": "6cd0ddf9-0d9c-4bb4-8336-940e5a5d3248",
   "metadata": {
    "tags": []
   },
   "outputs": [
    {
     "data": {
      "text/html": [
       "<div>\n",
       "<style scoped>\n",
       "    .dataframe tbody tr th:only-of-type {\n",
       "        vertical-align: middle;\n",
       "    }\n",
       "\n",
       "    .dataframe tbody tr th {\n",
       "        vertical-align: top;\n",
       "    }\n",
       "\n",
       "    .dataframe thead th {\n",
       "        text-align: right;\n",
       "    }\n",
       "</style>\n",
       "<table border=\"1\" class=\"dataframe\">\n",
       "  <thead>\n",
       "    <tr style=\"text-align: right;\">\n",
       "      <th></th>\n",
       "      <th>f1</th>\n",
       "      <th>f2</th>\n",
       "      <th>f3</th>\n",
       "      <th>f4</th>\n",
       "      <th>f5</th>\n",
       "      <th>f6</th>\n",
       "      <th>f7</th>\n",
       "      <th>f8</th>\n",
       "      <th>class</th>\n",
       "    </tr>\n",
       "  </thead>\n",
       "  <tbody>\n",
       "    <tr>\n",
       "      <th>0</th>\n",
       "      <td>AAT_ECOLI</td>\n",
       "      <td>0.49</td>\n",
       "      <td>0.29</td>\n",
       "      <td>0.48</td>\n",
       "      <td>0.5</td>\n",
       "      <td>0.56</td>\n",
       "      <td>0.24</td>\n",
       "      <td>0.35</td>\n",
       "      <td>cp</td>\n",
       "    </tr>\n",
       "    <tr>\n",
       "      <th>1</th>\n",
       "      <td>ACEA_ECOLI</td>\n",
       "      <td>0.07</td>\n",
       "      <td>0.40</td>\n",
       "      <td>0.48</td>\n",
       "      <td>0.5</td>\n",
       "      <td>0.54</td>\n",
       "      <td>0.35</td>\n",
       "      <td>0.44</td>\n",
       "      <td>cp</td>\n",
       "    </tr>\n",
       "    <tr>\n",
       "      <th>2</th>\n",
       "      <td>ACEK_ECOLI</td>\n",
       "      <td>0.56</td>\n",
       "      <td>0.40</td>\n",
       "      <td>0.48</td>\n",
       "      <td>0.5</td>\n",
       "      <td>0.49</td>\n",
       "      <td>0.37</td>\n",
       "      <td>0.46</td>\n",
       "      <td>cp</td>\n",
       "    </tr>\n",
       "    <tr>\n",
       "      <th>3</th>\n",
       "      <td>ACKA_ECOLI</td>\n",
       "      <td>0.59</td>\n",
       "      <td>0.49</td>\n",
       "      <td>0.48</td>\n",
       "      <td>0.5</td>\n",
       "      <td>0.52</td>\n",
       "      <td>0.45</td>\n",
       "      <td>0.36</td>\n",
       "      <td>cp</td>\n",
       "    </tr>\n",
       "    <tr>\n",
       "      <th>4</th>\n",
       "      <td>ADI_ECOLI</td>\n",
       "      <td>0.23</td>\n",
       "      <td>0.32</td>\n",
       "      <td>0.48</td>\n",
       "      <td>0.5</td>\n",
       "      <td>0.55</td>\n",
       "      <td>0.25</td>\n",
       "      <td>0.35</td>\n",
       "      <td>cp</td>\n",
       "    </tr>\n",
       "  </tbody>\n",
       "</table>\n",
       "</div>"
      ],
      "text/plain": [
       "           f1    f2    f3    f4   f5    f6    f7    f8 class\n",
       "0   AAT_ECOLI  0.49  0.29  0.48  0.5  0.56  0.24  0.35    cp\n",
       "1  ACEA_ECOLI  0.07  0.40  0.48  0.5  0.54  0.35  0.44    cp\n",
       "2  ACEK_ECOLI  0.56  0.40  0.48  0.5  0.49  0.37  0.46    cp\n",
       "3  ACKA_ECOLI  0.59  0.49  0.48  0.5  0.52  0.45  0.36    cp\n",
       "4   ADI_ECOLI  0.23  0.32  0.48  0.5  0.55  0.25  0.35    cp"
      ]
     },
     "execution_count": 3,
     "metadata": {},
     "output_type": "execute_result"
    }
   ],
   "source": [
    "data = pd.read_csv('ecoli.data', names=['f1', 'f2', 'f3', 'f4', 'f5', 'f6', 'f7', 'f8', 'class'], sep='\\s+')\n",
    "data.head()"
   ]
  },
  {
   "cell_type": "markdown",
   "id": "7e7bd031-1557-462a-a883-85dc2c5d51eb",
   "metadata": {},
   "source": [
    "#### train test split"
   ]
  },
  {
   "cell_type": "code",
   "execution_count": 17,
   "id": "cdc6c76b-db3d-4658-92f1-4d74a67bc0e4",
   "metadata": {
    "tags": []
   },
   "outputs": [],
   "source": [
    "data = data.sample(frac=1)\n",
    "X = np.array(data.iloc[ : , 1:8])\n",
    "y = np.array(data['class'])\n",
    "cut = round(len(y) * .8)\n",
    "x_train = X[ :cut]\n",
    "y_train = y[ :cut]\n",
    "x_test = X[cut: ]\n",
    "y_test = y[cut: ]"
   ]
  },
  {
   "cell_type": "code",
   "execution_count": 18,
   "id": "5c148f6d-5fd5-4a6c-a8e1-3fa71edb3e28",
   "metadata": {
    "tags": []
   },
   "outputs": [
    {
     "name": "stdout",
     "output_type": "stream",
     "text": [
      "[[27  0  0  0  0  1]\n",
      " [ 2 12  0  0  0  1]\n",
      " [ 0  7  6  0  0  0]\n",
      " [ 0  0  0  2  0  0]\n",
      " [ 0  0  0  0  1  0]\n",
      " [ 0  0  0  0  0  8]]\n"
     ]
    }
   ],
   "source": [
    "from sklearn.neighbors import KNeighborsClassifier\n",
    "\n",
    "knn = KNeighborsClassifier(n_neighbors=8)\n",
    "knn.fit(x_train, y_train)\n",
    "\n",
    "y_pred = []\n",
    "y_pred = knn.predict(x_test)\n",
    "c = metrics.confusion_matrix(y_test, y_pred)\n",
    "print(c)"
   ]
  },
  {
   "cell_type": "markdown",
   "id": "790c3d21-8a01-499b-b85b-48787ba29ec4",
   "metadata": {},
   "source": [
    "### precision score"
   ]
  },
  {
   "cell_type": "code",
   "execution_count": 65,
   "id": "9dff0b69-51ec-4a8a-af3c-4d2e88b228dc",
   "metadata": {
    "tags": []
   },
   "outputs": [
    {
     "name": "stdout",
     "output_type": "stream",
     "text": [
      "class0 manual precision:    0.9310344827586207\n",
      "class0 sklearn precision:  [0.93103448]\n",
      "\n",
      "class1 manual precision:    0.631578947368421\n",
      "class1 sklearn precision:  [0.63157895]\n",
      "\n",
      "class2 manual precision:    1.0\n",
      "class2 sklearn precision:  [1.]\n",
      "\n",
      "class3 manual precision:    1.0\n",
      "class3 sklearn precision:  [1.]\n",
      "\n",
      "class4 manual precision:    1.0\n",
      "class4 sklearn precision:  [1.]\n",
      "\n",
      "class5 manual precision:    0.8\n",
      "class5 sklearn precision:  [0.8]\n",
      "\n"
     ]
    }
   ],
   "source": [
    "labels = np.unique(y_test)\n",
    "for i, label in enumerate(labels):\n",
    "    print(f'class{i} manual precision:   ', c[i][i] / c[:,i].sum())\n",
    "    print(f'class{i} sklearn precision: ', precision_score(y_test, y_pred, labels=[label], average=None))\n",
    "    print('')"
   ]
  },
  {
   "cell_type": "markdown",
   "id": "ab4666a6-ea9b-4862-81ed-2140deafbfa6",
   "metadata": {},
   "source": [
    "### recall score"
   ]
  },
  {
   "cell_type": "code",
   "execution_count": 66,
   "id": "71313044-7083-4fb2-8cb9-bb775feab7f7",
   "metadata": {
    "tags": []
   },
   "outputs": [
    {
     "name": "stdout",
     "output_type": "stream",
     "text": [
      "class0 manual recall:    0.9642857142857143\n",
      "class0 sklearn recall:  [0.96428571]\n",
      "\n",
      "class1 manual recall:    0.8\n",
      "class1 sklearn recall:  [0.8]\n",
      "\n",
      "class2 manual recall:    0.46153846153846156\n",
      "class2 sklearn recall:  [0.46153846]\n",
      "\n",
      "class3 manual recall:    1.0\n",
      "class3 sklearn recall:  [1.]\n",
      "\n",
      "class4 manual recall:    1.0\n",
      "class4 sklearn recall:  [1.]\n",
      "\n",
      "class5 manual recall:    1.0\n",
      "class5 sklearn recall:  [1.]\n",
      "\n"
     ]
    }
   ],
   "source": [
    "for i, label in enumerate(labels):\n",
    "    print(f'class{i} manual recall:   ', c[i][i] / c[i].sum())\n",
    "    print(f'class{i} sklearn recall: ', recall_score(y_test, y_pred, labels=[label], average=None))\n",
    "    print('')"
   ]
  }
 ],
 "metadata": {
  "kernelspec": {
   "display_name": "Python 3 (ipykernel)",
   "language": "python",
   "name": "python3"
  },
  "language_info": {
   "codemirror_mode": {
    "name": "ipython",
    "version": 3
   },
   "file_extension": ".py",
   "mimetype": "text/x-python",
   "name": "python",
   "nbconvert_exporter": "python",
   "pygments_lexer": "ipython3",
   "version": "3.8.10"
  }
 },
 "nbformat": 4,
 "nbformat_minor": 5
}
